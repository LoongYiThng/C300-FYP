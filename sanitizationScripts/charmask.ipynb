{
 "cells": [
  {
   "cell_type": "code",
   "execution_count": 1,
   "id": "2f231a23",
   "metadata": {},
   "outputs": [
    {
     "name": "stdout",
     "output_type": "stream",
     "text": [
      "Done! Check save folder\n"
     ]
    }
   ],
   "source": [
    "from docx import Document\n",
    "\n",
    "def mask_data(text):\n",
    "    masked_text = ''\n",
    "    words = text.split()\n",
    "    for word in words:\n",
    "        if is_name(word):  # Mask names\n",
    "            masked_text += mask_name(word) + ' '\n",
    "        elif is_email(word):  # Mask email addresses\n",
    "            masked_text += mask_email(word) + ' '\n",
    "        elif is_number(word):  # Mask numbers (including phone numbers)\n",
    "            masked_text += mask_number(word) + ' '\n",
    "        else:\n",
    "            masked_text += word + ' '\n",
    "    return masked_text.strip()\n",
    "\n",
    "def is_name(word):\n",
    "    # Check if the word is likely to be a name\n",
    "    return word[0].isalpha() and word[0].isupper()\n",
    "\n",
    "def is_email(word):\n",
    "    # Check if the word is likely to be an email address\n",
    "    return '@' in word and '.' in word\n",
    "\n",
    "def is_number(word):\n",
    "    # Check if the word is likely to be a number (including phone numbers)\n",
    "    return word.isdigit() or is_phone_number(word)\n",
    "\n",
    "def is_phone_number(word):\n",
    "    # Check if the word is likely to be a phone number\n",
    "    return any(char.isdigit() for char in word)\n",
    "\n",
    "def mask_name(name):\n",
    "    # Mask a name by replacing characters with 'X'\n",
    "    masked_name = ''\n",
    "    for char in name:\n",
    "        if char.isalnum():\n",
    "            masked_name += 'X'\n",
    "        else:\n",
    "            masked_name += char\n",
    "    return masked_name\n",
    "\n",
    "def mask_email(email):\n",
    "    # Mask an email address by replacing the entire email address with 'X'\n",
    "    return 'X' * len(email)\n",
    "\n",
    "def mask_number(number):\n",
    "    # Mask a number (including phone numbers) by replacing digits with 'X'\n",
    "    return 'X' * len(number)\n",
    "\n",
    "# Open the Word document\n",
    "doc = Document('test.docx')\n",
    "\n",
    "# Process each paragraph in the document\n",
    "for paragraph in doc.paragraphs:\n",
    "    original_text = paragraph.text\n",
    "    masked_text = mask_data(original_text)\n",
    "    paragraph.text = masked_text\n",
    "\n",
    "# Save the modified document\n",
    "doc.save('masked.docx')\n",
    "print(\"Done! Check save folder\")"
   ]
  },
  {
   "cell_type": "code",
   "execution_count": null,
   "id": "b461017a",
   "metadata": {},
   "outputs": [],
   "source": []
  }
 ],
 "metadata": {
  "kernelspec": {
   "display_name": "Python 3 (ipykernel)",
   "language": "python",
   "name": "python3"
  },
  "language_info": {
   "codemirror_mode": {
    "name": "ipython",
    "version": 3
   },
   "file_extension": ".py",
   "mimetype": "text/x-python",
   "name": "python",
   "nbconvert_exporter": "python",
   "pygments_lexer": "ipython3",
   "version": "3.9.13"
  }
 },
 "nbformat": 4,
 "nbformat_minor": 5
}
