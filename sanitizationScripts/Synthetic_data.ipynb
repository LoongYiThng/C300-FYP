{
 "cells": [
  {
   "cell_type": "code",
   "execution_count": 1,
   "id": "d1fc5940",
   "metadata": {},
   "outputs": [
    {
     "name": "stdout",
     "output_type": "stream",
     "text": [
      "Done, Check save folder\n"
     ]
    }
   ],
   "source": [
    "from faker import Faker\n",
    "from docx import Document\n",
    "\n",
    "faker = Faker()\n",
    "\n",
    "# Example original document\n",
    "document = Document('test.docx')\n",
    "\n",
    "# Function to sanitize text\n",
    "def sanitize_text(text):\n",
    "    # Split the text into words\n",
    "    words = text.split()\n",
    "    # Generate a fake word for each original word\n",
    "    fake_words = [faker.word() for _ in words]\n",
    "    # Combine the fake words into a string\n",
    "    fake_text = ' '.join(fake_words)\n",
    "    return fake_text\n",
    "\n",
    "# Sanitize the document\n",
    "for paragraph in document.paragraphs:\n",
    "    # Sanitize the text in the paragraph\n",
    "    sanitized_text = sanitize_text(paragraph.text)\n",
    "    # Replace the original text with the sanitized text\n",
    "    paragraph.text = sanitized_text\n",
    "\n",
    "# Save the sanitized document\n",
    "document.save('synthetic.docx')\n",
    "print(\"Done, Check save folder\")"
   ]
  },
  {
   "cell_type": "code",
   "execution_count": null,
   "id": "a60ca156",
   "metadata": {},
   "outputs": [],
   "source": []
  }
 ],
 "metadata": {
  "kernelspec": {
   "display_name": "Python 3 (ipykernel)",
   "language": "python",
   "name": "python3"
  },
  "language_info": {
   "codemirror_mode": {
    "name": "ipython",
    "version": 3
   },
   "file_extension": ".py",
   "mimetype": "text/x-python",
   "name": "python",
   "nbconvert_exporter": "python",
   "pygments_lexer": "ipython3",
   "version": "3.9.13"
  }
 },
 "nbformat": 4,
 "nbformat_minor": 5
}
