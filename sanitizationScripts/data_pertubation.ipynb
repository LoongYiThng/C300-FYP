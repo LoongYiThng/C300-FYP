{
 "cells": [
  {
   "cell_type": "code",
   "execution_count": 1,
   "id": "0e093f2b",
   "metadata": {},
   "outputs": [
    {
     "name": "stdout",
     "output_type": "stream",
     "text": [
      "Done! Check save folder\n"
     ]
    }
   ],
   "source": [
    "from docx import Document\n",
    "import random\n",
    "import string\n",
    "\n",
    "def perturb_data(text):\n",
    "    perturbed_text = ''\n",
    "    words = text.split()\n",
    "    for word in words:\n",
    "        if is_name(word):  # Perturb names\n",
    "            perturbed_text += perturb_name(word) + ' '\n",
    "        elif is_email(word):  # Perturb email addresses\n",
    "            perturbed_text += perturb_email(word) + ' '\n",
    "        elif is_number(word):  # Perturb numbers (including phone numbers)\n",
    "            perturbed_text += perturb_number(word) + ' '\n",
    "        else:\n",
    "            perturbed_text += word + ' '\n",
    "    return perturbed_text.strip()\n",
    "\n",
    "def is_name(word):\n",
    "    # Check if the word is likely to be a name\n",
    "    return word[0].isalpha() and word[0].isupper()\n",
    "\n",
    "def is_email(word):\n",
    "    # Check if the word is likely to be an email address\n",
    "    return '@' in word and '.' in word and word.index('@') < word.rindex('.')\n",
    "\n",
    "def is_number(word):\n",
    "    # Check if the word is likely to be a number (including phone numbers)\n",
    "    return word.isdigit() or is_phone_number(word)\n",
    "\n",
    "def is_phone_number(word):\n",
    "    # Check if the word is likely to be a phone number\n",
    "    return any(char.isdigit() for char in word)\n",
    "\n",
    "def perturb_name(name):\n",
    "    # Perturb a name by randomly replacing characters\n",
    "    perturbed_name = ''\n",
    "    for char in name:\n",
    "        if char.isalnum():\n",
    "            perturbed_name += random.choice(string.ascii_letters)\n",
    "        else:\n",
    "            perturbed_name += char\n",
    "    return perturbed_name\n",
    "\n",
    "def perturb_email(email):\n",
    "    # Perturb an email address by randomly changing characters before the '@' symbol\n",
    "    username, domain = email.split('@')\n",
    "    perturbed_username = perturb_name(username)\n",
    "    return perturbed_username + '@' + domain\n",
    "\n",
    "def perturb_number(number):\n",
    "    # Perturb a number (including phone numbers) by randomly changing digits\n",
    "    perturbed_number = ''\n",
    "    for digit in number:\n",
    "        if digit.isdigit():\n",
    "            perturbed_number += random.choice(string.digits)\n",
    "        else:\n",
    "            perturbed_number += digit\n",
    "    return perturbed_number\n",
    "\n",
    "# Open the Word document\n",
    "doc = Document('test.docx')\n",
    "\n",
    "# Process each paragraph in the document\n",
    "for paragraph in doc.paragraphs:\n",
    "    original_text = paragraph.text\n",
    "    perturbed_text = perturb_data(original_text)\n",
    "    paragraph.text = perturbed_text\n",
    "\n",
    "# Save the modified document\n",
    "doc.save('perturbed.docx')\n",
    "print(\"Done! Check save folder\")"
   ]
  },
  {
   "cell_type": "code",
   "execution_count": null,
   "id": "a5e59dc8",
   "metadata": {},
   "outputs": [],
   "source": []
  }
 ],
 "metadata": {
  "kernelspec": {
   "display_name": "Python 3 (ipykernel)",
   "language": "python",
   "name": "python3"
  },
  "language_info": {
   "codemirror_mode": {
    "name": "ipython",
    "version": 3
   },
   "file_extension": ".py",
   "mimetype": "text/x-python",
   "name": "python",
   "nbconvert_exporter": "python",
   "pygments_lexer": "ipython3",
   "version": "3.9.13"
  }
 },
 "nbformat": 4,
 "nbformat_minor": 5
}
