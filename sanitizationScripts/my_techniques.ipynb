{
 "cells": [
  {
   "attachments": {},
   "cell_type": "markdown",
   "metadata": {},
   "source": [
    "# record surpression\n",
    "**description:** record surpression refers to the removal of an entire record in the dataset. in contrast to most techniques, this technique affects multiple attributes at the same time\n",
    "\n",
    "**how to use it:** delete an entire record. \"Redacting\" may not be sufficient if the underlying data remains accessible"
   ]
  },
  {
   "cell_type": "code",
   "execution_count": 1,
   "metadata": {},
   "outputs": [
    {
     "name": "stdout",
     "output_type": "stream",
     "text": [
      "Done! check save folder\n"
     ]
    }
   ],
   "source": [
    "from docx import Document\n",
    "import re\n",
    "\n",
    "regex={\n",
    "    \"email\": \"\\S+@(\\S+|\\.\\S+)\",\n",
    "    \"age\": \"\\d+\\syears\\sold\",\n",
    "    \"money\": \"(?!\\s|,)\\W\\d+(,\\d+)+\",\n",
    "    \"phone number\": \"(\\+65|\\+65\\s)?(\\d{4}\\d{4}|\\d{4}\\s\\d{4})\",\n",
    "    \"name or place\": \"([A-Z][a-z]+\\s?)\"\n",
    "}\n",
    "sensitive_types=[]\n",
    "\n",
    "# define sensitive data\n",
    "def is_sensitive(sentence):\n",
    "    sensitive=False\n",
    "    for i in regex:\n",
    "        if re.search(regex[i], sentence):\n",
    "            sensitive=True\n",
    "            sensitive_types.append(i)\n",
    "    return sensitive\n",
    "\n",
    "def sanitize(sentence, sensitive_types:list):\n",
    "    for i in sensitive_types:\n",
    "        sentence=re.sub(regex[i], \"\", sentence)\n",
    "    return sentence\n",
    "\n",
    "# open document\n",
    "doc = Document(\"test.docx\")\n",
    "\n",
    "# sanitize\n",
    "sanitized_doc=Document()\n",
    "output_paragraph=\"\"\n",
    "\n",
    "for paragraph in doc.paragraphs:\n",
    "    original_text=paragraph.text\n",
    "    sentences=re.split(\"\\.\\s\", original_text)\n",
    "\n",
    "    for sentence in sentences:\n",
    "        if is_sensitive(sentence):\n",
    "            output_paragraph+=sanitize(sentence, sensitive_types)+\". \"\n",
    "        else:\n",
    "            output_paragraph+=sentence\n",
    "        sensitive_types=[]\n",
    "\n",
    "    sanitized_doc.add_paragraph(output_paragraph)\n",
    "    output_paragraph=\"\"\n",
    "    \n",
    "\n",
    "# output\n",
    "sanitized_doc.save(\"surpressed.docx\")\n",
    "print(\"Done! check save folder\")"
   ]
  },
  {
   "attachments": {},
   "cell_type": "markdown",
   "metadata": {},
   "source": [
    "# generalisation\n",
    "**description:** a reduction in the precision of data by rephrasing into something more vague. for example turning age into a age range or a precise location into a district/country.\n",
    "\n",
    "**how to use it:** design appropriate data categories and rules for translating data and surpress records that still stand out after translation"
   ]
  },
  {
   "cell_type": "code",
   "execution_count": 9,
   "metadata": {},
   "outputs": [
    {
     "name": "stdout",
     "output_type": "stream",
     "text": [
      "Done! check save folder\n"
     ]
    }
   ],
   "source": [
    "from docx import Document\n",
    "import re\n",
    "\n",
    "# define sensitive data\n",
    "def is_sensitive(sentence):\n",
    "    sensitive=False\n",
    "    type=False\n",
    "    if re.search(\"([A-Z]\\w+\\s|[A-Z]\\w+)+\", sentence): # name or place\n",
    "        sensitive=True\n",
    "        type=\"name or place\"\n",
    "    elif re.search(\"\\W\\d+((\\W|\\W\\s)\\d+)+\", sentence): # money\n",
    "        sensitive=True\n",
    "        type=\"money\"\n",
    "    elif re.search(\"\\d+\\s\\S+\\sold\", sentence): # age\n",
    "        sensitive=True\n",
    "        type=\"age\"\n",
    "    return sensitive, type\n",
    "\n",
    "# open document\n",
    "doc = Document(\"test.docx\")\n",
    "\n",
    "# sanitize\n",
    "sanitized_doc=Document()\n",
    "\n",
    "for paragraph in doc.paragraphs:\n",
    "    original_text=paragraph.text\n",
    "    if is_sensitive(original_text)[0]==True:\n",
    "        if is_sensitive(original_text)[1]==\"name or place\":\n",
    "            substituted_text=re.sub(\"([A-Z]\\w+\\s|[A-Z]\\w+)+\", \"around place\", original_text)\n",
    "            sanitized_doc.add_paragraph(substituted_text)\n",
    "        \n",
    "        if is_sensitive(original_text)[1]==\"money\":\n",
    "            number=re.search(\"\\W\\d+((\\W|\\W\\s)\\d+)+\", original_text)\n",
    "            number=re.sub(\"(\\.|,\\s|,|\\s)\", \"\", number.group)\n",
    "            number_range=str(float(number)-100)+\" - \"+str(float(number)+100)\n",
    "            substituted_text=re.sub(\"\\W\\d+((\\W|\\W\\s)\\d+)+\", number_range, original_text)\n",
    "            sanitized_doc.add_paragraph(substituted_text)\n",
    "        \n",
    "        if is_sensitive(original_text)[1]==\"age\":\n",
    "            number=re.search(\"\\d+\\s\\S+\\sold\", original_text)\n",
    "            number=re.search(\"\\d+\", number.group)\n",
    "            number_range=str(float(number)-10)+\" - \"+str(float(number)+10)\n",
    "            substituted_text=re.sub(\"\\d+\\s\\S+\\sold\", number_range, original_text)\n",
    "            sanitized_doc.add_paragraph(substituted_text)\n",
    "    else:\n",
    "        sanitized_doc.add_paragraph(original_text)\n",
    "\n",
    "# output\n",
    "sanitized_doc.save(\"generalisation.docx\")\n",
    "print(\"Done! check save folder\")"
   ]
  },
  {
   "attachments": {},
   "cell_type": "markdown",
   "metadata": {},
   "source": [
    "# data aggregation\n",
    "**description:** converting a dataset from a list of records to summarised values\n",
    "\n",
    "**how to use it:** statistical measures can be used. typical ways include using totals or averages, etc."
   ]
  },
  {
   "cell_type": "code",
   "execution_count": null,
   "metadata": {},
   "outputs": [],
   "source": [
    "# program here"
   ]
  }
 ],
 "metadata": {
  "kernelspec": {
   "display_name": "base",
   "language": "python",
   "name": "python3"
  },
  "language_info": {
   "codemirror_mode": {
    "name": "ipython",
    "version": 3
   },
   "file_extension": ".py",
   "mimetype": "text/x-python",
   "name": "python",
   "nbconvert_exporter": "python",
   "pygments_lexer": "ipython3",
   "version": "3.9.12"
  },
  "orig_nbformat": 4
 },
 "nbformat": 4,
 "nbformat_minor": 2
}
